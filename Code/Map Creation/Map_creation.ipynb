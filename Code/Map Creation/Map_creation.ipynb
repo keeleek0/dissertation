{
 "cells": [
  {
   "cell_type": "code",
   "execution_count": 3,
   "id": "161e275f",
   "metadata": {},
   "outputs": [],
   "source": [
    "import pandas as pd\n",
    "import folium\n",
    "\n",
    "#load the dataset\n",
    "file_path = '/Users/sire/Desktop/dissertation/Data/data_complete_ch.xlsx'\n",
    "df = pd.read_excel(file_path)"
   ]
  },
  {
   "cell_type": "code",
   "execution_count": 7,
   "id": "9336dcd8",
   "metadata": {
    "scrolled": true
   },
   "outputs": [],
   "source": [
    "\n",
    "# Filter the data where treated == 1\n",
    "treated_df = df[df['treated'] == 1]\n",
    "non_treated_df = df[df['treated'] == 0]\n",
    "\n",
    "# Extract latitude and longitude for treated\n",
    "treated_latitudes = treated_df['mn_latitude']\n",
    "treated_longitudes = treated_df['mn_longitude']\n",
    "\n",
    "# Extract latitude and longitude for non-treated\n",
    "non_treated_latitudes = non_treated_df['mn_latitude']\n",
    "non_treated_longitudes = non_treated_df['mn_longitude']\n",
    "\n",
    "# Center of the map (average of coordinates)\n",
    "map_center = [df['mn_latitude'].mean(), df['mn_longitude'].mean()]\n",
    "\n",
    "# Create a map object\n",
    "m = folium.Map(location=map_center, zoom_start=12)\n",
    "\n",
    "# Add the custom tile layer from the Swiss Federal GeoPortal (swisstopo)\n",
    "folium.TileLayer(\n",
    "    tiles='https://wmts.geo.admin.ch/1.0.0/ch.swisstopo.pixelkarte-farbe/default/current/3857/{z}/{x}/{y}.jpeg',\n",
    "    attr='© Swiss Federal Geoportal',\n",
    "    name='swisstopo'\n",
    ").add_to(m)\n",
    "\n",
    "# Add each treated point as a red marker\n",
    "for lat, lon in zip(treated_latitudes, treated_longitudes):\n",
    "    folium.CircleMarker(\n",
    "        location=[lat, lon],\n",
    "        radius=1,  # size of the marker\n",
    "        color='red',\n",
    "        fill=True,\n",
    "        fill_color='red'\n",
    "    ).add_to(m)\n",
    "\n",
    "# Add each non-treated point as a blue marker\n",
    "for lat, lon in zip(non_treated_latitudes, non_treated_longitudes):\n",
    "    folium.CircleMarker(\n",
    "        location=[lat, lon],\n",
    "        radius=1,  # size of the marker\n",
    "        color='blue',\n",
    "        fill=False,\n",
    "        fill_color='blue'\n",
    "    ).add_to(m)\n",
    "\n",
    "# Add layer control\n",
    "folium.LayerControl().add_to(m)\n",
    "\n",
    "# Save to html\n",
    "m.save('treated_and_non_treated_locations_map.html')\n",
    "\n",
    "# Display the map\n",
    "m\n"
   ]
  },
  {
   "cell_type": "code",
   "execution_count": 6,
   "id": "0a879747",
   "metadata": {},
   "outputs": [],
   "source": [
    "m"
   ]
  }
 ],
 "metadata": {
  "kernelspec": {
   "display_name": "Python 3 (ipykernel)",
   "language": "python",
   "name": "python3"
  },
  "language_info": {
   "codemirror_mode": {
    "name": "ipython",
    "version": 3
   },
   "file_extension": ".py",
   "mimetype": "text/x-python",
   "name": "python",
   "nbconvert_exporter": "python",
   "pygments_lexer": "ipython3",
   "version": "3.10.9"
  }
 },
 "nbformat": 4,
 "nbformat_minor": 5
}
